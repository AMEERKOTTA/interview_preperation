{
 "cells": [
  {
   "cell_type": "markdown",
   "id": "d30d0b6f",
   "metadata": {},
   "source": [
    "**Questions**\n",
    "\n",
    "Given an array of integers nums and an integer target, return indices of the two numbers such that they add up to target.\n",
    "\n",
    "You may assume that each input would have exactly one solution, and you may not use the same element twice.\n",
    "\n",
    "You can return the answer in any order."
   ]
  },
  {
   "cell_type": "markdown",
   "id": "33791df3",
   "metadata": {},
   "source": [
    "Example 1:\n",
    "\n",
    "Input: nums = `[2,7,11,15]`, target = `9`\n",
    "\n",
    "Output: `[0,1]`\n",
    "\n",
    "Explanation: Because nums[0] + nums[1] == 9, we return [0, 1].\n",
    "\n",
    "Example 2:\n",
    "\n",
    "Input: nums = `[3,2,4]`, target = `6`\n",
    "\n",
    "Output: `[1,2]`\n",
    "\n",
    "Example 3:\n",
    "\n",
    "Input: nums = `[3,3]`, target = `6`\n",
    "\n",
    "Output: `[0,1]`"
   ]
  },
  {
   "cell_type": "code",
   "execution_count": 19,
   "id": "86c0112c",
   "metadata": {},
   "outputs": [],
   "source": [
    "def twosums(nums, target):\n",
    "    \n",
    "    ## define an empty dictionary\n",
    "    dict_of_seen = {}\n",
    "    \n",
    "    for index, value in enumerate(nums):\n",
    "        print(\"Index : \", index, \"Value : \", value)\n",
    "        required_num = target - value\n",
    "        print(required_num)\n",
    "        \n",
    "        if required_num in dict_of_seen:\n",
    "            return [index, dict_of_seen[required_num]]\n",
    "        \n",
    "        else:\n",
    "            dict_of_seen[value] = index"
   ]
  },
  {
   "cell_type": "code",
   "execution_count": 20,
   "id": "df1a94a2",
   "metadata": {},
   "outputs": [
    {
     "name": "stdout",
     "output_type": "stream",
     "text": [
      "Index :  0 Value :  2\n",
      "7\n",
      "Index :  1 Value :  7\n",
      "2\n"
     ]
    },
    {
     "data": {
      "text/plain": [
       "[1, 0]"
      ]
     },
     "execution_count": 20,
     "metadata": {},
     "output_type": "execute_result"
    }
   ],
   "source": [
    "nums = [2,7,11,15]\n",
    "target = 9\n",
    "\n",
    "twosums(nums, target)"
   ]
  },
  {
   "cell_type": "code",
   "execution_count": 14,
   "id": "ac0b377a",
   "metadata": {},
   "outputs": [
    {
     "name": "stdout",
     "output_type": "stream",
     "text": [
      "Index :  0 Value :  3\n",
      "Index :  1 Value :  2\n",
      "Index :  2 Value :  4\n"
     ]
    },
    {
     "data": {
      "text/plain": [
       "[2, 1]"
      ]
     },
     "execution_count": 14,
     "metadata": {},
     "output_type": "execute_result"
    }
   ],
   "source": [
    "nums = [3,2,4]\n",
    "target = 6\n",
    "\n",
    "twosums(nums, target)"
   ]
  },
  {
   "cell_type": "code",
   "execution_count": null,
   "id": "c5be11b5",
   "metadata": {},
   "outputs": [],
   "source": [
    "nums = [3,2,4], target = 6"
   ]
  },
  {
   "cell_type": "code",
   "execution_count": 12,
   "id": "457f86b5",
   "metadata": {},
   "outputs": [
    {
     "name": "stdout",
     "output_type": "stream",
     "text": [
      "Index :  0 Values :  2\n",
      "Index :  1 Values :  7\n",
      "Index :  2 Values :  11\n",
      "Index :  3 Values :  15\n"
     ]
    }
   ],
   "source": [
    "for idx, value in enumerate(nums):\n",
    "    print(\"Index : \",idx, \"Values : \",value)"
   ]
  },
  {
   "cell_type": "markdown",
   "id": "cdcdabb3",
   "metadata": {},
   "source": [
    "#### ANOTHER SOLUTION"
   ]
  },
  {
   "cell_type": "code",
   "execution_count": 23,
   "id": "b46c7f6c",
   "metadata": {},
   "outputs": [],
   "source": [
    "def twosum_problem(nums, target):\n",
    "    \n",
    "    ## from the array of list given.\n",
    "    ## we need to find out the index numbers\n",
    "    ## for those numbers in the index will give a sum of equal to target.\n",
    "    ## so looping through the length of num first.\n",
    "    ## then looping through the length of numbers by adding 1\n",
    "    ## then compute to sum avary time\n",
    "    ## and check for target.\n",
    "    ## if getting the target, then return the index values.\n",
    "    \n",
    "    for i in range(len(nums)):\n",
    "        for j in range(i + 1, len(nums)):\n",
    "            ## compute the sum\n",
    "            sum = nums[i] + nums[j]\n",
    "            print(sum)\n",
    "            \n",
    "            ## check the condition by if statement.\n",
    "            if sum == target:\n",
    "                return [i,j]\n",
    "            "
   ]
  },
  {
   "cell_type": "code",
   "execution_count": 24,
   "id": "6cd317d5",
   "metadata": {},
   "outputs": [
    {
     "name": "stdout",
     "output_type": "stream",
     "text": [
      "9\n"
     ]
    },
    {
     "data": {
      "text/plain": [
       "[0, 1]"
      ]
     },
     "execution_count": 24,
     "metadata": {},
     "output_type": "execute_result"
    }
   ],
   "source": [
    "nums = [2,7,11,15]\n",
    "target = 9\n",
    "\n",
    "twosum_problem(nums, target)"
   ]
  },
  {
   "cell_type": "code",
   "execution_count": 25,
   "id": "f2469ece",
   "metadata": {},
   "outputs": [
    {
     "name": "stdout",
     "output_type": "stream",
     "text": [
      "5\n",
      "7\n",
      "6\n"
     ]
    },
    {
     "data": {
      "text/plain": [
       "[1, 2]"
      ]
     },
     "execution_count": 25,
     "metadata": {},
     "output_type": "execute_result"
    }
   ],
   "source": [
    "nums = [3,2,4]\n",
    "target = 6\n",
    "\n",
    "twosum_problem(nums, target)"
   ]
  },
  {
   "cell_type": "code",
   "execution_count": 26,
   "id": "467d8aed",
   "metadata": {},
   "outputs": [
    {
     "name": "stdout",
     "output_type": "stream",
     "text": [
      "6\n"
     ]
    },
    {
     "data": {
      "text/plain": [
       "[0, 1]"
      ]
     },
     "execution_count": 26,
     "metadata": {},
     "output_type": "execute_result"
    }
   ],
   "source": [
    "nums = [3,3]\n",
    "target = 6\n",
    "\n",
    "twosum_problem(nums, target)"
   ]
  },
  {
   "cell_type": "markdown",
   "id": "2e930fb8",
   "metadata": {},
   "source": [
    "*****"
   ]
  }
 ],
 "metadata": {
  "kernelspec": {
   "display_name": "Python 3 (ipykernel)",
   "language": "python",
   "name": "python3"
  },
  "language_info": {
   "codemirror_mode": {
    "name": "ipython",
    "version": 3
   },
   "file_extension": ".py",
   "mimetype": "text/x-python",
   "name": "python",
   "nbconvert_exporter": "python",
   "pygments_lexer": "ipython3",
   "version": "3.10.9"
  }
 },
 "nbformat": 4,
 "nbformat_minor": 5
}
